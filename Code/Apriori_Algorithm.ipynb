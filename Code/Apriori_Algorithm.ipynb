{
 "cells": [
  {
   "cell_type": "code",
   "execution_count": 1,
   "metadata": {},
   "outputs": [
    {
     "name": "stdout",
     "output_type": "stream",
     "text": [
      "Please Select the Dataset from the menu: \n",
      " 1. Amazon \n",
      " 2. Best Buy \n",
      " 3. K-Mart \n",
      " 4. Nike \n",
      " 5. Generic \n",
      " 6. Exit \n",
      " Your Selection is: 1\n",
      "You have selected dataset located in Dataset_Amazon.csv\n",
      "Enter Minimum Support in % (value from 1 to 100): 30\n",
      "Enter Minimum Confidence in % (value from 1 to 100): 40\n"
     ]
    }
   ],
   "source": [
    "import numpy as np\n",
    "import pandas as pd\n",
    "from itertools import combinations,chain\n",
    "\n",
    "# User input for data\n",
    "dataset_input = int(input(\"Please Select the Dataset from the menu: \\n 1. Amazon \\n 2. Best Buy \\n 3. K-Mart \\n 4. Nike \\n 5. Generic \\n 6. Exit \\n Your Selection is: \"))\n",
    "\n",
    "if dataset_input == 6:\n",
    "    quit()\n",
    "    \n",
    "# load csv\n",
    "datasets_list = ('Amazon', 'BestBuy', 'K-Mart', 'Nike', 'Generic')\n",
    "df_tr=pd.read_csv(\"Dataset_\" + datasets_list[dataset_input-1] +\".csv\")\n",
    "df_itemset=pd.read_csv(\"Itemset_\" + datasets_list[dataset_input-1] +\".csv\")\n",
    "print(\"You have selected dataset located in Dataset_\"+ datasets_list[dataset_input-1] +\".csv\")\n",
    "\n",
    "# set order\n",
    "order = sorted(df_itemset['Item Name'])\n",
    "\n",
    "dataset = []\n",
    "for lines in df_tr['Transaction']:\n",
    "    trans = list(lines.strip().split(', '))\n",
    "    trans_1= list(np.unique(trans))\n",
    "    trans_1.sort(key=lambda x: order.index(x))\n",
    "    dataset.append(sorted(trans_1))\n",
    "    \n",
    "trans_num = len(dataset)\n",
    "\n",
    "# User Input for Support and Confidence\n",
    "minimum_support = int(input(\"Enter Minimum Support in % (value from 1 to 100): \"))\n",
    "minimum_confidence = int(input(\"Enter Minimum Confidence in % (value from 1 to 100): \"))"
   ]
  },
  {
   "cell_type": "code",
   "execution_count": 2,
   "metadata": {
    "collapsed": true
   },
   "outputs": [],
   "source": [
    "C = {}\n",
    "L = {}\n",
    "sup_count_L = {}\n",
    "itemset_size = 1\n",
    "non_frequent = {itemset_size:[]}\n",
    "C.update({itemset_size:[[f] for f in order]})"
   ]
  },
  {
   "cell_type": "code",
   "execution_count": 3,
   "metadata": {},
   "outputs": [
    {
     "data": {
      "text/plain": [
       "{1: [['A Beginner’s Guide'],\n",
       "  ['Android Programming: The Big Nerd Ranch'],\n",
       "  ['Beginning Programming with Java'],\n",
       "  ['C++ Programming in Easy Steps'],\n",
       "  ['Effective Java (2nd Edition)'],\n",
       "  ['HTML and CSS: Design and Build Websites'],\n",
       "  ['Head First Java 2nd Edition'],\n",
       "  ['Java 8 Pocket Guide'],\n",
       "  ['Java For Dummies'],\n",
       "  ['Java: The Complete Reference']]}"
      ]
     },
     "execution_count": 3,
     "metadata": {},
     "output_type": "execute_result"
    }
   ],
   "source": [
    "C"
   ]
  },
  {
   "cell_type": "code",
   "execution_count": 4,
   "metadata": {
    "collapsed": true
   },
   "outputs": [],
   "source": [
    "def count_items(itemset, dataset):\n",
    "    count=0\n",
    "    for i in range (0, len(dataset)):\n",
    "        if set(itemset).issubset(set(dataset[i])):\n",
    "            count += 1\n",
    "    return count"
   ]
  },
  {
   "cell_type": "code",
   "execution_count": 5,
   "metadata": {
    "collapsed": true
   },
   "outputs": [],
   "source": [
    "def frequent_itemsets(itemsets, dataset, minimum_support, non_frequent):\n",
    "    L = []\n",
    "    sup_count = []\n",
    "    new_non_frequent = []\n",
    "    trans_num = len(dataset)\n",
    "    K = len(non_frequent.keys())\n",
    "    for i in range(0, len(itemsets)):\n",
    "        temp = 0\n",
    "        if K>0:\n",
    "            for j in non_frequent[K]:\n",
    "                if set(j).issubset(set(itemsets[i])):\n",
    "                    temp = 1\n",
    "                    break\n",
    "        if temp == 0:\n",
    "            freq_count = count_items(itemsets[i], dataset)\n",
    "            if freq_count >= (minimum_support/100)*trans_num:\n",
    "                L.append(itemsets[i])\n",
    "                sup_count.append(freq_count)\n",
    "            else:\n",
    "                new_non_frequent.append(itemsets[i])\n",
    "    return L, sup_count, new_non_frequent"
   ]
  },
  {
   "cell_type": "code",
   "execution_count": 6,
   "metadata": {
    "collapsed": true
   },
   "outputs": [],
   "source": [
    "def print_table (table, sup_count):\n",
    "        print(\"Itemset | Count\")\n",
    "        for i in range (0, len(table)):\n",
    "            print(\"{} : {}\".format(table[i], sup_count[i]))\n",
    "        print(\"\\n\\n\")"
   ]
  },
  {
   "cell_type": "code",
   "execution_count": 7,
   "metadata": {
    "collapsed": true
   },
   "outputs": [],
   "source": [
    "def get_candidate_set(items, order):\n",
    "    Temp = []\n",
    "    for i in range (0, len(items)):\n",
    "        for j in range (i+1, len(items)):\n",
    "            items_1 = join_itemsets(items[i],items[j],order)\n",
    "            if len(items_1) > 0:\n",
    "                Temp.append(items_1)\n",
    "    return Temp"
   ]
  },
  {
   "cell_type": "code",
   "execution_count": 8,
   "metadata": {
    "collapsed": true
   },
   "outputs": [],
   "source": [
    "def join_itemsets (item_1, item_2, order):\n",
    "    item_1.sort(key=lambda x: order.index(x))\n",
    "    item_2.sort(key=lambda x: order.index(x))\n",
    "        \n",
    "    for i in range (0, len(item_1)-1):\n",
    "        if item_1[i] != item_2[i]:\n",
    "            return []\n",
    "    if order.index(item_1[-1]) < order.index(item_2[-1]):\n",
    "        return item_1 + [item_2[-1]]\n",
    "    return []"
   ]
  },
  {
   "cell_type": "code",
   "execution_count": 9,
   "metadata": {
    "collapsed": true
   },
   "outputs": [],
   "source": [
    "def all_subsets(x):\n",
    "    s = list(x)\n",
    "    subsets = list(chain.from_iterable(combinations(s, r) for r in range(1,len(s)+1)))\n",
    "    return subsets"
   ]
  },
  {
   "cell_type": "code",
   "execution_count": 10,
   "metadata": {
    "collapsed": true
   },
   "outputs": [],
   "source": [
    "def write_assoc_rules(item_2, item_1, conf, support, trans_num, rule_no):\n",
    "    assoc_rules = \"\"\n",
    "    assoc_rules += \"Rule {}: {} -> {} \\n\".format(rule_no, list(item_1), list(item_2))\n",
    "    assoc_rules += \"Confidence: {0:2.2f}% \\n\".format(conf*100)\n",
    "    assoc_rules += \"Support: {0:2.2f}% \\n\\n\".format((support/trans_num)*100)\n",
    "    return assoc_rules"
   ]
  },
  {
   "cell_type": "code",
   "execution_count": 11,
   "metadata": {
    "collapsed": true
   },
   "outputs": [],
   "source": [
    "freq_set, support, new_non_frequent = frequent_itemsets(C[itemset_size], dataset, minimum_support, non_frequent)\n",
    "L.update({itemset_size : freq_set})\n",
    "non_frequent.update({itemset_size : new_non_frequent})\n",
    "sup_count_L.update({itemset_size : support})"
   ]
  },
  {
   "cell_type": "code",
   "execution_count": 12,
   "metadata": {},
   "outputs": [
    {
     "name": "stdout",
     "output_type": "stream",
     "text": [
      "\n",
      "Table C1: \n",
      "\n",
      "Itemset | Count\n",
      "['A Beginner’s Guide'] : 11\n",
      "['Android Programming: The Big Nerd Ranch'] : 13\n",
      "['Beginning Programming with Java'] : 6\n",
      "['C++ Programming in Easy Steps'] : 1\n",
      "['Effective Java (2nd Edition)'] : 0\n",
      "['HTML and CSS: Design and Build Websites'] : 2\n",
      "['Head First Java 2nd Edition'] : 8\n",
      "['Java 8 Pocket Guide'] : 4\n",
      "['Java For Dummies'] : 13\n",
      "['Java: The Complete Reference'] : 10\n",
      "\n",
      "\n",
      "\n",
      "\n",
      "Table L1: \n",
      "\n",
      "Itemset | Count\n",
      "['A Beginner’s Guide'] : 11\n",
      "['Android Programming: The Big Nerd Ranch'] : 13\n",
      "['Beginning Programming with Java'] : 6\n",
      "['Head First Java 2nd Edition'] : 8\n",
      "['Java For Dummies'] : 13\n",
      "['Java: The Complete Reference'] : 10\n",
      "\n",
      "\n",
      "\n"
     ]
    }
   ],
   "source": [
    "print(\"\\nTable C1: \\n\")\n",
    "print_table(C[1], [count_items(item, dataset) for item in C[1]])\n",
    "print(\"\\nTable L1: \\n\")\n",
    "print_table(L[1], sup_count_L[1])"
   ]
  },
  {
   "cell_type": "markdown",
   "metadata": {},
   "source": [
    "#### Generating Candidate Set and Frequent Set"
   ]
  },
  {
   "cell_type": "code",
   "execution_count": 13,
   "metadata": {
    "scrolled": false
   },
   "outputs": [
    {
     "name": "stdout",
     "output_type": "stream",
     "text": [
      "Table C2: \n",
      "\n",
      "Itemset | Count\n",
      "['A Beginner’s Guide', 'Android Programming: The Big Nerd Ranch'] : 6\n",
      "['A Beginner’s Guide', 'Beginning Programming with Java'] : 1\n",
      "['A Beginner’s Guide', 'Head First Java 2nd Edition'] : 3\n",
      "['A Beginner’s Guide', 'Java For Dummies'] : 9\n",
      "['A Beginner’s Guide', 'Java: The Complete Reference'] : 9\n",
      "['Android Programming: The Big Nerd Ranch', 'Beginning Programming with Java'] : 3\n",
      "['Android Programming: The Big Nerd Ranch', 'Head First Java 2nd Edition'] : 6\n",
      "['Android Programming: The Big Nerd Ranch', 'Java For Dummies'] : 9\n",
      "['Android Programming: The Big Nerd Ranch', 'Java: The Complete Reference'] : 6\n",
      "['Beginning Programming with Java', 'Head First Java 2nd Edition'] : 4\n",
      "['Beginning Programming with Java', 'Java For Dummies'] : 1\n",
      "['Beginning Programming with Java', 'Java: The Complete Reference'] : 0\n",
      "['Head First Java 2nd Edition', 'Java For Dummies'] : 3\n",
      "['Head First Java 2nd Edition', 'Java: The Complete Reference'] : 1\n",
      "['Java For Dummies', 'Java: The Complete Reference'] : 10\n",
      "\n",
      "\n",
      "\n",
      "Table L2: \n",
      "\n",
      "Itemset | Count\n",
      "['A Beginner’s Guide', 'Android Programming: The Big Nerd Ranch'] : 6\n",
      "['A Beginner’s Guide', 'Java For Dummies'] : 9\n",
      "['A Beginner’s Guide', 'Java: The Complete Reference'] : 9\n",
      "['Android Programming: The Big Nerd Ranch', 'Head First Java 2nd Edition'] : 6\n",
      "['Android Programming: The Big Nerd Ranch', 'Java For Dummies'] : 9\n",
      "['Android Programming: The Big Nerd Ranch', 'Java: The Complete Reference'] : 6\n",
      "['Java For Dummies', 'Java: The Complete Reference'] : 10\n",
      "\n",
      "\n",
      "\n",
      "Table C3: \n",
      "\n",
      "Itemset | Count\n",
      "['A Beginner’s Guide', 'Android Programming: The Big Nerd Ranch', 'Java For Dummies'] : 5\n",
      "['A Beginner’s Guide', 'Android Programming: The Big Nerd Ranch', 'Java: The Complete Reference'] : 5\n",
      "['A Beginner’s Guide', 'Java For Dummies', 'Java: The Complete Reference'] : 9\n",
      "['Android Programming: The Big Nerd Ranch', 'Head First Java 2nd Edition', 'Java For Dummies'] : 3\n",
      "['Android Programming: The Big Nerd Ranch', 'Head First Java 2nd Edition', 'Java: The Complete Reference'] : 1\n",
      "['Android Programming: The Big Nerd Ranch', 'Java For Dummies', 'Java: The Complete Reference'] : 6\n",
      "\n",
      "\n",
      "\n",
      "Table L3: \n",
      "\n",
      "Itemset | Count\n",
      "['A Beginner’s Guide', 'Java For Dummies', 'Java: The Complete Reference'] : 9\n",
      "['Android Programming: The Big Nerd Ranch', 'Java For Dummies', 'Java: The Complete Reference'] : 6\n",
      "\n",
      "\n",
      "\n",
      "Table C4: \n",
      "\n",
      "Itemset | Count\n",
      "\n",
      "\n",
      "\n"
     ]
    }
   ],
   "source": [
    "K = itemset_size + 1\n",
    "temp = 0\n",
    "while temp == 0:\n",
    "    C.update({K : get_candidate_set(L[K-1],order)})\n",
    "    print(\"Table C{}: \\n\".format(K))\n",
    "    print_table(C[K], [count_items(item, dataset) for item in C[K]])\n",
    "    freq_set, support, new_non_frequent = frequent_itemsets(C[K], dataset, minimum_support, non_frequent)\n",
    "    L.update({K : freq_set})\n",
    "    non_frequent.update({K : new_non_frequent})\n",
    "    sup_count_L.update({K : support})\n",
    "    if len(L[K]) == 0:\n",
    "        temp = 1\n",
    "    else:\n",
    "        print(\"Table L{}: \\n\".format(K))\n",
    "        print_table(L[K], sup_count_L[K])\n",
    "    K += 1"
   ]
  },
  {
   "cell_type": "markdown",
   "metadata": {},
   "source": [
    "### Association Rules"
   ]
  },
  {
   "cell_type": "code",
   "execution_count": 14,
   "metadata": {
    "collapsed": true
   },
   "outputs": [],
   "source": [
    "# Association Rules\n",
    "assoc_rules = \"\"\n",
    "rule_no = 1\n",
    "for i in range (1, len(L)):\n",
    "    for j in range (0, len(L[i])):\n",
    "        subsets = list(all_subsets(set(L[i][j])))\n",
    "        subsets.pop()\n",
    "        for k in subsets:\n",
    "            item_1 = set(k)\n",
    "            freq_set_1 = set(L[i][j])\n",
    "            item_2 = set(freq_set_1-item_1)\n",
    "            support_freq_set_1 = count_items(freq_set_1, dataset)\n",
    "            support_item_1 = count_items(item_1, dataset)\n",
    "            support_item_2 = count_items(item_2, dataset)\n",
    "            conf = support_freq_set_1/support_item_1\n",
    "            if conf >= (minimum_confidence/100) and support_freq_set_1 >= (minimum_support/100)*trans_num:\n",
    "                assoc_rules += write_assoc_rules(item_2, item_1, conf, support_freq_set_1, trans_num, rule_no)\n",
    "                rule_no += 1"
   ]
  },
  {
   "cell_type": "code",
   "execution_count": 15,
   "metadata": {
    "scrolled": false
   },
   "outputs": [
    {
     "name": "stdout",
     "output_type": "stream",
     "text": [
      "Final Association Rules: \n",
      "\n",
      "Rule 1: ['A Beginner’s Guide'] -> ['Android Programming: The Big Nerd Ranch'] \n",
      "Confidence: 54.55% \n",
      "Support: 30.00% \n",
      "\n",
      "Rule 2: ['Android Programming: The Big Nerd Ranch'] -> ['A Beginner’s Guide'] \n",
      "Confidence: 46.15% \n",
      "Support: 30.00% \n",
      "\n",
      "Rule 3: ['A Beginner’s Guide'] -> ['Java For Dummies'] \n",
      "Confidence: 81.82% \n",
      "Support: 45.00% \n",
      "\n",
      "Rule 4: ['Java For Dummies'] -> ['A Beginner’s Guide'] \n",
      "Confidence: 69.23% \n",
      "Support: 45.00% \n",
      "\n",
      "Rule 5: ['Java: The Complete Reference'] -> ['A Beginner’s Guide'] \n",
      "Confidence: 90.00% \n",
      "Support: 45.00% \n",
      "\n",
      "Rule 6: ['A Beginner’s Guide'] -> ['Java: The Complete Reference'] \n",
      "Confidence: 81.82% \n",
      "Support: 45.00% \n",
      "\n",
      "Rule 7: ['Head First Java 2nd Edition'] -> ['Android Programming: The Big Nerd Ranch'] \n",
      "Confidence: 75.00% \n",
      "Support: 30.00% \n",
      "\n",
      "Rule 8: ['Android Programming: The Big Nerd Ranch'] -> ['Head First Java 2nd Edition'] \n",
      "Confidence: 46.15% \n",
      "Support: 30.00% \n",
      "\n",
      "Rule 9: ['Java For Dummies'] -> ['Android Programming: The Big Nerd Ranch'] \n",
      "Confidence: 69.23% \n",
      "Support: 45.00% \n",
      "\n",
      "Rule 10: ['Android Programming: The Big Nerd Ranch'] -> ['Java For Dummies'] \n",
      "Confidence: 69.23% \n",
      "Support: 45.00% \n",
      "\n",
      "Rule 11: ['Java: The Complete Reference'] -> ['Android Programming: The Big Nerd Ranch'] \n",
      "Confidence: 60.00% \n",
      "Support: 30.00% \n",
      "\n",
      "Rule 12: ['Android Programming: The Big Nerd Ranch'] -> ['Java: The Complete Reference'] \n",
      "Confidence: 46.15% \n",
      "Support: 30.00% \n",
      "\n",
      "Rule 13: ['Java: The Complete Reference'] -> ['Java For Dummies'] \n",
      "Confidence: 100.00% \n",
      "Support: 50.00% \n",
      "\n",
      "Rule 14: ['Java For Dummies'] -> ['Java: The Complete Reference'] \n",
      "Confidence: 76.92% \n",
      "Support: 50.00% \n",
      "\n",
      "Rule 15: ['Java: The Complete Reference'] -> ['A Beginner’s Guide', 'Java For Dummies'] \n",
      "Confidence: 90.00% \n",
      "Support: 45.00% \n",
      "\n",
      "Rule 16: ['A Beginner’s Guide'] -> ['Java: The Complete Reference', 'Java For Dummies'] \n",
      "Confidence: 81.82% \n",
      "Support: 45.00% \n",
      "\n",
      "Rule 17: ['Java For Dummies'] -> ['Java: The Complete Reference', 'A Beginner’s Guide'] \n",
      "Confidence: 69.23% \n",
      "Support: 45.00% \n",
      "\n",
      "Rule 18: ['Java: The Complete Reference', 'A Beginner’s Guide'] -> ['Java For Dummies'] \n",
      "Confidence: 100.00% \n",
      "Support: 45.00% \n",
      "\n",
      "Rule 19: ['Java: The Complete Reference', 'Java For Dummies'] -> ['A Beginner’s Guide'] \n",
      "Confidence: 90.00% \n",
      "Support: 45.00% \n",
      "\n",
      "Rule 20: ['A Beginner’s Guide', 'Java For Dummies'] -> ['Java: The Complete Reference'] \n",
      "Confidence: 100.00% \n",
      "Support: 45.00% \n",
      "\n",
      "Rule 21: ['Java: The Complete Reference'] -> ['Java For Dummies', 'Android Programming: The Big Nerd Ranch'] \n",
      "Confidence: 60.00% \n",
      "Support: 30.00% \n",
      "\n",
      "Rule 22: ['Java For Dummies'] -> ['Java: The Complete Reference', 'Android Programming: The Big Nerd Ranch'] \n",
      "Confidence: 46.15% \n",
      "Support: 30.00% \n",
      "\n",
      "Rule 23: ['Android Programming: The Big Nerd Ranch'] -> ['Java: The Complete Reference', 'Java For Dummies'] \n",
      "Confidence: 46.15% \n",
      "Support: 30.00% \n",
      "\n",
      "Rule 24: ['Java: The Complete Reference', 'Java For Dummies'] -> ['Android Programming: The Big Nerd Ranch'] \n",
      "Confidence: 60.00% \n",
      "Support: 30.00% \n",
      "\n",
      "Rule 25: ['Java: The Complete Reference', 'Android Programming: The Big Nerd Ranch'] -> ['Java For Dummies'] \n",
      "Confidence: 100.00% \n",
      "Support: 30.00% \n",
      "\n",
      "Rule 26: ['Java For Dummies', 'Android Programming: The Big Nerd Ranch'] -> ['Java: The Complete Reference'] \n",
      "Confidence: 66.67% \n",
      "Support: 30.00% \n",
      "\n",
      "\n"
     ]
    }
   ],
   "source": [
    "print(\"Final Association Rules: \\n\")\n",
    "print(assoc_rules)"
   ]
  },
  {
   "cell_type": "markdown",
   "metadata": {},
   "source": [
    "### Testing Results with apriori_python package"
   ]
  },
  {
   "cell_type": "code",
   "execution_count": 16,
   "metadata": {
    "collapsed": true
   },
   "outputs": [],
   "source": [
    "from apriori_python import apriori"
   ]
  },
  {
   "cell_type": "markdown",
   "metadata": {},
   "source": [
    "#### Package use condition confidence > minConf and our code uses condition confidence >= min confidence\n",
    "#### Hence, using minConf = 0.39 instead of 0.4 to verify results"
   ]
  },
  {
   "cell_type": "code",
   "execution_count": 17,
   "metadata": {
    "collapsed": true
   },
   "outputs": [],
   "source": [
    "freqItemSet, rules = apriori(dataset, minSup=0.3, minConf=0.39)"
   ]
  },
  {
   "cell_type": "code",
   "execution_count": 18,
   "metadata": {
    "scrolled": false
   },
   "outputs": [
    {
     "name": "stdout",
     "output_type": "stream",
     "text": [
      "Rule 1: [{'Android Programming: The Big Nerd Ranch'}, {'Java: The Complete Reference'}, 0.46153846153846156] \n",
      " \n",
      "Rule 2: [{'Android Programming: The Big Nerd Ranch'}, {'Head First Java 2nd Edition'}, 0.46153846153846156] \n",
      " \n",
      "Rule 3: [{'Android Programming: The Big Nerd Ranch'}, {'A Beginner’s Guide'}, 0.46153846153846156] \n",
      " \n",
      "Rule 4: [{'Java For Dummies'}, {'Java: The Complete Reference', 'Android Programming: The Big Nerd Ranch'}, 0.46153846153846156] \n",
      " \n",
      "Rule 5: [{'Android Programming: The Big Nerd Ranch'}, {'Java: The Complete Reference', 'Java For Dummies'}, 0.46153846153846156] \n",
      " \n",
      "Rule 6: [{'A Beginner’s Guide'}, {'Android Programming: The Big Nerd Ranch'}, 0.5454545454545454] \n",
      " \n",
      "Rule 7: [{'Java: The Complete Reference'}, {'Android Programming: The Big Nerd Ranch'}, 0.6] \n",
      " \n",
      "Rule 8: [{'Java: The Complete Reference'}, {'Java For Dummies', 'Android Programming: The Big Nerd Ranch'}, 0.6] \n",
      " \n",
      "Rule 9: [{'Java: The Complete Reference', 'Java For Dummies'}, {'Android Programming: The Big Nerd Ranch'}, 0.6] \n",
      " \n",
      "Rule 10: [{'Java For Dummies', 'Android Programming: The Big Nerd Ranch'}, {'Java: The Complete Reference'}, 0.6666666666666666] \n",
      " \n",
      "Rule 11: [{'Java For Dummies'}, {'A Beginner’s Guide'}, 0.6923076923076923] \n",
      " \n",
      "Rule 12: [{'Java For Dummies'}, {'Android Programming: The Big Nerd Ranch'}, 0.6923076923076923] \n",
      " \n",
      "Rule 13: [{'Android Programming: The Big Nerd Ranch'}, {'Java For Dummies'}, 0.6923076923076923] \n",
      " \n",
      "Rule 14: [{'Java For Dummies'}, {'Java: The Complete Reference', 'A Beginner’s Guide'}, 0.6923076923076923] \n",
      " \n",
      "Rule 15: [{'Head First Java 2nd Edition'}, {'Android Programming: The Big Nerd Ranch'}, 0.75] \n",
      " \n",
      "Rule 16: [{'Java For Dummies'}, {'Java: The Complete Reference'}, 0.7692307692307693] \n",
      " \n",
      "Rule 17: [{'A Beginner’s Guide'}, {'Java For Dummies'}, 0.8181818181818182] \n",
      " \n",
      "Rule 18: [{'A Beginner’s Guide'}, {'Java: The Complete Reference'}, 0.8181818181818182] \n",
      " \n",
      "Rule 19: [{'A Beginner’s Guide'}, {'Java: The Complete Reference', 'Java For Dummies'}, 0.8181818181818182] \n",
      " \n",
      "Rule 20: [{'Java: The Complete Reference'}, {'A Beginner’s Guide'}, 0.9] \n",
      " \n",
      "Rule 21: [{'Java: The Complete Reference'}, {'A Beginner’s Guide', 'Java For Dummies'}, 0.9] \n",
      " \n",
      "Rule 22: [{'Java: The Complete Reference', 'Java For Dummies'}, {'A Beginner’s Guide'}, 0.9] \n",
      " \n",
      "Rule 23: [{'Java: The Complete Reference'}, {'Java For Dummies'}, 1.0] \n",
      " \n",
      "Rule 24: [{'Java: The Complete Reference', 'Android Programming: The Big Nerd Ranch'}, {'Java For Dummies'}, 1.0] \n",
      " \n",
      "Rule 25: [{'Java: The Complete Reference', 'A Beginner’s Guide'}, {'Java For Dummies'}, 1.0] \n",
      " \n",
      "Rule 26: [{'A Beginner’s Guide', 'Java For Dummies'}, {'Java: The Complete Reference'}, 1.0] \n",
      " \n"
     ]
    }
   ],
   "source": [
    "for i in range (len(rules)):\n",
    "    print(\"Rule {}: {} \\n \".format(i+1, rules[i]))"
   ]
  },
  {
   "cell_type": "markdown",
   "metadata": {},
   "source": [
    "### Results are verified"
   ]
  }
 ],
 "metadata": {
  "kernelspec": {
   "display_name": "Python 3",
   "language": "python",
   "name": "python3"
  },
  "language_info": {
   "codemirror_mode": {
    "name": "ipython",
    "version": 3
   },
   "file_extension": ".py",
   "mimetype": "text/x-python",
   "name": "python",
   "nbconvert_exporter": "python",
   "pygments_lexer": "ipython3",
   "version": "3.6.3"
  }
 },
 "nbformat": 4,
 "nbformat_minor": 2
}
